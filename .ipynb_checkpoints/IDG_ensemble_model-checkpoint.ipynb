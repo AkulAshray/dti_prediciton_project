{
 "cells": [
  {
   "cell_type": "markdown",
   "metadata": {},
   "source": [
    "# Ensemble models\n",
    "\n",
    "We start of by building ensemble models for our data. The goal is to be able to predict pChembl value based on the drugs structures and target's sequence information. This value allows a number of roughly comparable measures of half-maximal response concentration/potency/affinity to be compared on a negative logarithmic scale. For example, an IC50 measurement of 1nM would have a pChEMBL value of 9. pChEMBL is defined as: -Log(molar IC50, XC50, EC50, AC50, Ki, Kd or Potency)."
   ]
  },
  {
   "cell_type": "code",
   "execution_count": 2,
   "metadata": {},
   "outputs": [],
   "source": [
    "# standard libraries imported\n",
    "import pandas as pd\n",
    "import numpy as np\n",
    "np.random.seed(0)\n",
    "import matplotlib.pyplot as plt\n",
    "from sklearn.model_selection import train_test_split\n",
    "from sklearn.metrics import accuracy_score\n",
    "from sklearn.model_selection import GridSearchCV\n",
    "import warnings\n",
    "warnings.filterwarnings('ignore')\n",
    "%matplotlib inline"
   ]
  },
  {
   "cell_type": "code",
   "execution_count": 3,
   "metadata": {},
   "outputs": [],
   "source": [
    "# specific for this task as hand\n",
    "import pickle\n",
    "import dask.dataframe as dd\n",
    "from sklearn.ensemble import RandomForestRegressor\n",
    "from rdkit.Chem import AllChem\n",
    "from rdkit import Chem"
   ]
  },
  {
   "cell_type": "markdown",
   "metadata": {},
   "source": [
    "# Merge files and create train and test dataset"
   ]
  },
  {
   "cell_type": "markdown",
   "metadata": {},
   "source": [
    "I have downladed PSSM data on our target protein from the NCBI protein blast website I want to test which method of protein featurization works best in ensemble models."
   ]
  },
  {
   "cell_type": "code",
   "execution_count": 4,
   "metadata": {},
   "outputs": [],
   "source": [
    "#protein and compound feature vector file\n",
    "k_sep_norm = pd.read_csv(\"../cleaned_data/k-sep_normalized.tsv\",sep=\"\\t\")  #protein\n",
    "ecfp4 = pd.read_csv(\"../cleaned_data/ECFP4.tsv\",sep=\"\\t\")  #compound"
   ]
  },
  {
   "cell_type": "code",
   "execution_count": 6,
   "metadata": {},
   "outputs": [],
   "source": [
    "#train dataset\n",
    "df_tr = pd.read_csv(\"../cleaned_data/traincomps.tsv\",sep=\"\\t\")"
   ]
  },
  {
   "cell_type": "code",
   "execution_count": 7,
   "metadata": {},
   "outputs": [],
   "source": [
    "#train dataset with protein-compound feature vectors\n",
    "df = df_tr.merge(k_sep_norm,on=\"target_id\").merge(ecfp4,on=\"compound_id\")"
   ]
  },
  {
   "cell_type": "code",
   "execution_count": 8,
   "metadata": {},
   "outputs": [
    {
     "data": {
      "text/html": [
       "<div>\n",
       "<style scoped>\n",
       "    .dataframe tbody tr th:only-of-type {\n",
       "        vertical-align: middle;\n",
       "    }\n",
       "\n",
       "    .dataframe tbody tr th {\n",
       "        vertical-align: top;\n",
       "    }\n",
       "\n",
       "    .dataframe thead th {\n",
       "        text-align: right;\n",
       "    }\n",
       "</style>\n",
       "<table border=\"1\" class=\"dataframe\">\n",
       "  <thead>\n",
       "    <tr style=\"text-align: right;\">\n",
       "      <th></th>\n",
       "      <th>compound_id</th>\n",
       "      <th>target_id</th>\n",
       "      <th>pchembl_value</th>\n",
       "      <th>k_separated_bigrams_pssm0</th>\n",
       "      <th>k_separated_bigrams_pssm1</th>\n",
       "      <th>k_separated_bigrams_pssm2</th>\n",
       "      <th>k_separated_bigrams_pssm3</th>\n",
       "      <th>k_separated_bigrams_pssm4</th>\n",
       "      <th>k_separated_bigrams_pssm5</th>\n",
       "      <th>k_separated_bigrams_pssm6</th>\n",
       "      <th>...</th>\n",
       "      <th>ECFP4.1015</th>\n",
       "      <th>ECFP4.1016</th>\n",
       "      <th>ECFP4.1017</th>\n",
       "      <th>ECFP4.1018</th>\n",
       "      <th>ECFP4.1019</th>\n",
       "      <th>ECFP4.1020</th>\n",
       "      <th>ECFP4.1021</th>\n",
       "      <th>ECFP4.1022</th>\n",
       "      <th>ECFP4.1023</th>\n",
       "      <th>ECFP4.1024</th>\n",
       "    </tr>\n",
       "  </thead>\n",
       "  <tbody>\n",
       "    <tr>\n",
       "      <td>0</td>\n",
       "      <td>CHEMBL1000</td>\n",
       "      <td>Q02763</td>\n",
       "      <td>4.05</td>\n",
       "      <td>0.132645</td>\n",
       "      <td>0.246746</td>\n",
       "      <td>0.191735</td>\n",
       "      <td>0.210505</td>\n",
       "      <td>0.210938</td>\n",
       "      <td>0.130516</td>\n",
       "      <td>0.154157</td>\n",
       "      <td>...</td>\n",
       "      <td>0</td>\n",
       "      <td>0</td>\n",
       "      <td>0</td>\n",
       "      <td>0</td>\n",
       "      <td>0</td>\n",
       "      <td>0</td>\n",
       "      <td>0</td>\n",
       "      <td>0</td>\n",
       "      <td>0</td>\n",
       "      <td>0</td>\n",
       "    </tr>\n",
       "    <tr>\n",
       "      <td>1</td>\n",
       "      <td>CHEMBL103667</td>\n",
       "      <td>Q02763</td>\n",
       "      <td>7.70</td>\n",
       "      <td>0.132645</td>\n",
       "      <td>0.246746</td>\n",
       "      <td>0.191735</td>\n",
       "      <td>0.210505</td>\n",
       "      <td>0.210938</td>\n",
       "      <td>0.130516</td>\n",
       "      <td>0.154157</td>\n",
       "      <td>...</td>\n",
       "      <td>0</td>\n",
       "      <td>0</td>\n",
       "      <td>0</td>\n",
       "      <td>0</td>\n",
       "      <td>0</td>\n",
       "      <td>0</td>\n",
       "      <td>0</td>\n",
       "      <td>0</td>\n",
       "      <td>0</td>\n",
       "      <td>0</td>\n",
       "    </tr>\n",
       "    <tr>\n",
       "      <td>2</td>\n",
       "      <td>CHEMBL103667</td>\n",
       "      <td>P12931</td>\n",
       "      <td>4.46</td>\n",
       "      <td>0.062425</td>\n",
       "      <td>0.136338</td>\n",
       "      <td>0.085795</td>\n",
       "      <td>0.097171</td>\n",
       "      <td>0.050512</td>\n",
       "      <td>0.078817</td>\n",
       "      <td>0.086594</td>\n",
       "      <td>...</td>\n",
       "      <td>0</td>\n",
       "      <td>0</td>\n",
       "      <td>0</td>\n",
       "      <td>0</td>\n",
       "      <td>0</td>\n",
       "      <td>0</td>\n",
       "      <td>0</td>\n",
       "      <td>0</td>\n",
       "      <td>0</td>\n",
       "      <td>0</td>\n",
       "    </tr>\n",
       "    <tr>\n",
       "      <td>3</td>\n",
       "      <td>CHEMBL103667</td>\n",
       "      <td>P35968</td>\n",
       "      <td>5.50</td>\n",
       "      <td>0.108654</td>\n",
       "      <td>0.241820</td>\n",
       "      <td>0.227927</td>\n",
       "      <td>0.240146</td>\n",
       "      <td>0.144558</td>\n",
       "      <td>0.159763</td>\n",
       "      <td>0.186377</td>\n",
       "      <td>...</td>\n",
       "      <td>0</td>\n",
       "      <td>0</td>\n",
       "      <td>0</td>\n",
       "      <td>0</td>\n",
       "      <td>0</td>\n",
       "      <td>0</td>\n",
       "      <td>0</td>\n",
       "      <td>0</td>\n",
       "      <td>0</td>\n",
       "      <td>0</td>\n",
       "    </tr>\n",
       "    <tr>\n",
       "      <td>4</td>\n",
       "      <td>CHEMBL103667</td>\n",
       "      <td>P09619</td>\n",
       "      <td>5.96</td>\n",
       "      <td>0.098823</td>\n",
       "      <td>0.214194</td>\n",
       "      <td>0.193479</td>\n",
       "      <td>0.199802</td>\n",
       "      <td>0.115261</td>\n",
       "      <td>0.139842</td>\n",
       "      <td>0.162413</td>\n",
       "      <td>...</td>\n",
       "      <td>0</td>\n",
       "      <td>0</td>\n",
       "      <td>0</td>\n",
       "      <td>0</td>\n",
       "      <td>0</td>\n",
       "      <td>0</td>\n",
       "      <td>0</td>\n",
       "      <td>0</td>\n",
       "      <td>0</td>\n",
       "      <td>0</td>\n",
       "    </tr>\n",
       "  </tbody>\n",
       "</table>\n",
       "<p>5 rows × 1427 columns</p>\n",
       "</div>"
      ],
      "text/plain": [
       "    compound_id target_id  pchembl_value  k_separated_bigrams_pssm0  \\\n",
       "0    CHEMBL1000    Q02763           4.05                   0.132645   \n",
       "1  CHEMBL103667    Q02763           7.70                   0.132645   \n",
       "2  CHEMBL103667    P12931           4.46                   0.062425   \n",
       "3  CHEMBL103667    P35968           5.50                   0.108654   \n",
       "4  CHEMBL103667    P09619           5.96                   0.098823   \n",
       "\n",
       "   k_separated_bigrams_pssm1  k_separated_bigrams_pssm2  \\\n",
       "0                   0.246746                   0.191735   \n",
       "1                   0.246746                   0.191735   \n",
       "2                   0.136338                   0.085795   \n",
       "3                   0.241820                   0.227927   \n",
       "4                   0.214194                   0.193479   \n",
       "\n",
       "   k_separated_bigrams_pssm3  k_separated_bigrams_pssm4  \\\n",
       "0                   0.210505                   0.210938   \n",
       "1                   0.210505                   0.210938   \n",
       "2                   0.097171                   0.050512   \n",
       "3                   0.240146                   0.144558   \n",
       "4                   0.199802                   0.115261   \n",
       "\n",
       "   k_separated_bigrams_pssm5  k_separated_bigrams_pssm6  ...  ECFP4.1015  \\\n",
       "0                   0.130516                   0.154157  ...           0   \n",
       "1                   0.130516                   0.154157  ...           0   \n",
       "2                   0.078817                   0.086594  ...           0   \n",
       "3                   0.159763                   0.186377  ...           0   \n",
       "4                   0.139842                   0.162413  ...           0   \n",
       "\n",
       "   ECFP4.1016  ECFP4.1017  ECFP4.1018  ECFP4.1019  ECFP4.1020  ECFP4.1021  \\\n",
       "0           0           0           0           0           0           0   \n",
       "1           0           0           0           0           0           0   \n",
       "2           0           0           0           0           0           0   \n",
       "3           0           0           0           0           0           0   \n",
       "4           0           0           0           0           0           0   \n",
       "\n",
       "   ECFP4.1022  ECFP4.1023  ECFP4.1024  \n",
       "0           0           0           0  \n",
       "1           0           0           0  \n",
       "2           0           0           0  \n",
       "3           0           0           0  \n",
       "4           0           0           0  \n",
       "\n",
       "[5 rows x 1427 columns]"
      ]
     },
     "execution_count": 8,
     "metadata": {},
     "output_type": "execute_result"
    }
   ],
   "source": [
    "df.head()"
   ]
  },
  {
   "cell_type": "code",
   "execution_count": 9,
   "metadata": {},
   "outputs": [
    {
     "data": {
      "text/plain": [
       "(87769, 1427)"
      ]
     },
     "execution_count": 9,
     "metadata": {},
     "output_type": "execute_result"
    }
   ],
   "source": [
    "df.shape"
   ]
  },
  {
   "cell_type": "markdown",
   "metadata": {},
   "source": [
    "# first attempt using small subset\n"
   ]
  },
  {
   "cell_type": "code",
   "execution_count": 10,
   "metadata": {},
   "outputs": [
    {
     "data": {
      "text/plain": [
       "(20000, 1427)"
      ]
     },
     "execution_count": 10,
     "metadata": {},
     "output_type": "execute_result"
    }
   ],
   "source": [
    "df_set = df.sample(20000); df_set.shape"
   ]
  },
  {
   "cell_type": "code",
   "execution_count": 11,
   "metadata": {},
   "outputs": [],
   "source": [
    "y = df_set['pchembl_value']\n",
    "X = df_set.drop(['compound_id', 'target_id', 'pchembl_value'], axis=1)\n",
    "\n",
    "X_train, X_test, y_train, y_test = train_test_split(X, y, random_state=42)"
   ]
  },
  {
   "cell_type": "code",
   "execution_count": null,
   "metadata": {},
   "outputs": [],
   "source": [
    "from xgboost import XGBRegressor\n",
    "\n",
    "# # A parameter grid for XGBoost\n",
    "# params = {'min_child_weight':[4,5], 'gamma':[i/10.0 for i in range(3,6)],  'subsample':[i/10.0 for i in range(6,11)],\n",
    "# 'colsample_bytree':[i/10.0 for i in range(6,11)], 'max_depth': [2,3,4]}\n",
    "\n",
    "# # Initialize XGB and GridSearch\n",
    "# xgb = XGBRegressor(nthread=-1, objective=\"reg:linear\") \n",
    "\n",
    "# grid = GridSearchCV(xgb, params)\n",
    "# grid.fit(X_train, y_train, eval_metric='rmse', verbose = True, eval_set = [(X_test, y_test)])\n"
   ]
  },
  {
   "cell_type": "code",
   "execution_count": 27,
   "metadata": {
    "scrolled": true
   },
   "outputs": [
    {
     "name": "stdout",
     "output_type": "stream",
     "text": [
      "[0]\tvalidation_0-rmse:5.99066\n",
      "[1]\tvalidation_0-rmse:5.41702\n",
      "[2]\tvalidation_0-rmse:4.90277\n",
      "[3]\tvalidation_0-rmse:4.44286\n",
      "[4]\tvalidation_0-rmse:4.03117\n",
      "[5]\tvalidation_0-rmse:3.66384\n",
      "[6]\tvalidation_0-rmse:3.33496\n",
      "[7]\tvalidation_0-rmse:3.04323\n",
      "[8]\tvalidation_0-rmse:2.78338\n",
      "[9]\tvalidation_0-rmse:2.55393\n",
      "[10]\tvalidation_0-rmse:2.35139\n",
      "[11]\tvalidation_0-rmse:2.17304\n",
      "[12]\tvalidation_0-rmse:2.01683\n",
      "[13]\tvalidation_0-rmse:1.88042\n",
      "[14]\tvalidation_0-rmse:1.76129\n",
      "[15]\tvalidation_0-rmse:1.65815\n",
      "[16]\tvalidation_0-rmse:1.5692\n",
      "[17]\tvalidation_0-rmse:1.49246\n",
      "[18]\tvalidation_0-rmse:1.42775\n",
      "[19]\tvalidation_0-rmse:1.37289\n",
      "[20]\tvalidation_0-rmse:1.32609\n",
      "[21]\tvalidation_0-rmse:1.28621\n",
      "[22]\tvalidation_0-rmse:1.25288\n",
      "[23]\tvalidation_0-rmse:1.2245\n",
      "[24]\tvalidation_0-rmse:1.20106\n",
      "[25]\tvalidation_0-rmse:1.1811\n",
      "[26]\tvalidation_0-rmse:1.16329\n",
      "[27]\tvalidation_0-rmse:1.14923\n",
      "[28]\tvalidation_0-rmse:1.13802\n",
      "[29]\tvalidation_0-rmse:1.12832\n",
      "[30]\tvalidation_0-rmse:1.11974\n",
      "[31]\tvalidation_0-rmse:1.11172\n",
      "[32]\tvalidation_0-rmse:1.10604\n",
      "[33]\tvalidation_0-rmse:1.10051\n",
      "[34]\tvalidation_0-rmse:1.09644\n",
      "[35]\tvalidation_0-rmse:1.09233\n",
      "[36]\tvalidation_0-rmse:1.08876\n",
      "[37]\tvalidation_0-rmse:1.08566\n",
      "[38]\tvalidation_0-rmse:1.08197\n",
      "[39]\tvalidation_0-rmse:1.07916\n",
      "[40]\tvalidation_0-rmse:1.07765\n",
      "[41]\tvalidation_0-rmse:1.0754\n",
      "[42]\tvalidation_0-rmse:1.07395\n",
      "[43]\tvalidation_0-rmse:1.07144\n",
      "[44]\tvalidation_0-rmse:1.06946\n",
      "[45]\tvalidation_0-rmse:1.0675\n",
      "[46]\tvalidation_0-rmse:1.06601\n",
      "[47]\tvalidation_0-rmse:1.06468\n",
      "[48]\tvalidation_0-rmse:1.0631\n",
      "[49]\tvalidation_0-rmse:1.06162\n",
      "[50]\tvalidation_0-rmse:1.06025\n",
      "[51]\tvalidation_0-rmse:1.05967\n",
      "[52]\tvalidation_0-rmse:1.0582\n",
      "[53]\tvalidation_0-rmse:1.05749\n",
      "[54]\tvalidation_0-rmse:1.056\n",
      "[55]\tvalidation_0-rmse:1.05474\n",
      "[56]\tvalidation_0-rmse:1.05369\n",
      "[57]\tvalidation_0-rmse:1.0522\n",
      "[58]\tvalidation_0-rmse:1.05128\n",
      "[59]\tvalidation_0-rmse:1.05041\n",
      "[60]\tvalidation_0-rmse:1.0487\n",
      "[61]\tvalidation_0-rmse:1.04715\n",
      "[62]\tvalidation_0-rmse:1.04638\n",
      "[63]\tvalidation_0-rmse:1.04555\n",
      "[64]\tvalidation_0-rmse:1.04487\n",
      "[65]\tvalidation_0-rmse:1.04431\n",
      "[66]\tvalidation_0-rmse:1.04312\n",
      "[67]\tvalidation_0-rmse:1.04231\n",
      "[68]\tvalidation_0-rmse:1.04138\n",
      "[69]\tvalidation_0-rmse:1.04048\n",
      "[70]\tvalidation_0-rmse:1.03974\n",
      "[71]\tvalidation_0-rmse:1.0387\n",
      "[72]\tvalidation_0-rmse:1.03761\n",
      "[73]\tvalidation_0-rmse:1.0369\n",
      "[74]\tvalidation_0-rmse:1.03606\n",
      "[75]\tvalidation_0-rmse:1.03531\n",
      "[76]\tvalidation_0-rmse:1.03485\n",
      "[77]\tvalidation_0-rmse:1.03375\n",
      "[78]\tvalidation_0-rmse:1.0332\n",
      "[79]\tvalidation_0-rmse:1.03247\n",
      "[80]\tvalidation_0-rmse:1.0316\n",
      "[81]\tvalidation_0-rmse:1.03121\n",
      "[82]\tvalidation_0-rmse:1.03038\n",
      "[83]\tvalidation_0-rmse:1.02988\n",
      "[84]\tvalidation_0-rmse:1.02915\n",
      "[85]\tvalidation_0-rmse:1.02805\n",
      "[86]\tvalidation_0-rmse:1.02703\n",
      "[87]\tvalidation_0-rmse:1.02622\n",
      "[88]\tvalidation_0-rmse:1.02562\n",
      "[89]\tvalidation_0-rmse:1.02457\n",
      "[90]\tvalidation_0-rmse:1.02409\n",
      "[91]\tvalidation_0-rmse:1.02336\n",
      "[92]\tvalidation_0-rmse:1.02249\n",
      "[93]\tvalidation_0-rmse:1.02221\n",
      "[94]\tvalidation_0-rmse:1.02191\n",
      "[95]\tvalidation_0-rmse:1.02134\n",
      "[96]\tvalidation_0-rmse:1.02051\n",
      "[97]\tvalidation_0-rmse:1.01978\n",
      "[98]\tvalidation_0-rmse:1.01901\n",
      "[99]\tvalidation_0-rmse:1.01816\n"
     ]
    }
   ],
   "source": [
    "# Instantiate XGBRegressor\n",
    "clf = XGBRegressor(objective=\"reg:linear\")\n",
    "\n",
    "# Fit XGBRegressor\n",
    "clf.fit(X_train, y_train, eval_metric='rmse', verbose = True, eval_set = [(X_test, y_test)])\n",
    "\n",
    "# Predict on training and test sets\n",
    "training_preds = clf.predict(X_train)\n",
    "test_preds = clf.predict(X_test)"
   ]
  },
  {
   "cell_type": "code",
   "execution_count": 28,
   "metadata": {},
   "outputs": [
    {
     "name": "stdout",
     "output_type": "stream",
     "text": [
      "\n",
      "Mean Square error\"  1.0366595436384993\n"
     ]
    }
   ],
   "source": [
    "import sklearn\n",
    "print('\\nMean Square error\" ', sklearn.metrics.mean_squared_error(y_test,test_preds))"
   ]
  },
  {
   "cell_type": "markdown",
   "metadata": {},
   "source": [
    "# Split dataset and fit the model on entire data"
   ]
  },
  {
   "cell_type": "code",
   "execution_count": 31,
   "metadata": {},
   "outputs": [],
   "source": [
    "y = df['pchembl_value']\n",
    "X = df.drop(['compound_id', 'target_id', 'pchembl_value'], axis=1)\n",
    "\n",
    "X_train, X_test, y_train, y_test = train_test_split(X, y, random_state=42)"
   ]
  },
  {
   "cell_type": "code",
   "execution_count": 32,
   "metadata": {
    "scrolled": true
   },
   "outputs": [
    {
     "name": "stdout",
     "output_type": "stream",
     "text": [
      "[0]\tvalidation_0-rmse:5.98382\n",
      "[1]\tvalidation_0-rmse:5.41042\n",
      "[2]\tvalidation_0-rmse:4.89689\n",
      "[3]\tvalidation_0-rmse:4.43687\n",
      "[4]\tvalidation_0-rmse:4.02542\n",
      "[5]\tvalidation_0-rmse:3.65829\n",
      "[6]\tvalidation_0-rmse:3.33069\n",
      "[7]\tvalidation_0-rmse:3.03893\n",
      "[8]\tvalidation_0-rmse:2.78034\n",
      "[9]\tvalidation_0-rmse:2.55123\n",
      "[10]\tvalidation_0-rmse:2.34867\n",
      "[11]\tvalidation_0-rmse:2.17017\n",
      "[12]\tvalidation_0-rmse:2.01374\n",
      "[13]\tvalidation_0-rmse:1.87737\n",
      "[14]\tvalidation_0-rmse:1.75828\n",
      "[15]\tvalidation_0-rmse:1.65516\n",
      "[16]\tvalidation_0-rmse:1.56622\n",
      "[17]\tvalidation_0-rmse:1.49015\n",
      "[18]\tvalidation_0-rmse:1.42486\n",
      "[19]\tvalidation_0-rmse:1.36894\n",
      "[20]\tvalidation_0-rmse:1.32152\n",
      "[21]\tvalidation_0-rmse:1.28186\n",
      "[22]\tvalidation_0-rmse:1.24827\n",
      "[23]\tvalidation_0-rmse:1.22004\n",
      "[24]\tvalidation_0-rmse:1.19679\n",
      "[25]\tvalidation_0-rmse:1.17677\n",
      "[26]\tvalidation_0-rmse:1.16003\n",
      "[27]\tvalidation_0-rmse:1.14562\n",
      "[28]\tvalidation_0-rmse:1.1338\n",
      "[29]\tvalidation_0-rmse:1.12394\n",
      "[30]\tvalidation_0-rmse:1.11502\n",
      "[31]\tvalidation_0-rmse:1.10749\n",
      "[32]\tvalidation_0-rmse:1.10139\n",
      "[33]\tvalidation_0-rmse:1.09569\n",
      "[34]\tvalidation_0-rmse:1.091\n",
      "[35]\tvalidation_0-rmse:1.08645\n",
      "[36]\tvalidation_0-rmse:1.08278\n",
      "[37]\tvalidation_0-rmse:1.0795\n",
      "[38]\tvalidation_0-rmse:1.07621\n",
      "[39]\tvalidation_0-rmse:1.07344\n",
      "[40]\tvalidation_0-rmse:1.07119\n",
      "[41]\tvalidation_0-rmse:1.06867\n",
      "[42]\tvalidation_0-rmse:1.06664\n",
      "[43]\tvalidation_0-rmse:1.06526\n",
      "[44]\tvalidation_0-rmse:1.06331\n",
      "[45]\tvalidation_0-rmse:1.06092\n",
      "[46]\tvalidation_0-rmse:1.05926\n",
      "[47]\tvalidation_0-rmse:1.05814\n",
      "[48]\tvalidation_0-rmse:1.05652\n",
      "[49]\tvalidation_0-rmse:1.05508\n",
      "[50]\tvalidation_0-rmse:1.05332\n",
      "[51]\tvalidation_0-rmse:1.05197\n",
      "[52]\tvalidation_0-rmse:1.05018\n",
      "[53]\tvalidation_0-rmse:1.04897\n",
      "[54]\tvalidation_0-rmse:1.04794\n",
      "[55]\tvalidation_0-rmse:1.04676\n",
      "[56]\tvalidation_0-rmse:1.04557\n",
      "[57]\tvalidation_0-rmse:1.04442\n",
      "[58]\tvalidation_0-rmse:1.04341\n",
      "[59]\tvalidation_0-rmse:1.04262\n",
      "[60]\tvalidation_0-rmse:1.04113\n",
      "[61]\tvalidation_0-rmse:1.04021\n",
      "[62]\tvalidation_0-rmse:1.03888\n",
      "[63]\tvalidation_0-rmse:1.03779\n",
      "[64]\tvalidation_0-rmse:1.03698\n",
      "[65]\tvalidation_0-rmse:1.03609\n",
      "[66]\tvalidation_0-rmse:1.03522\n",
      "[67]\tvalidation_0-rmse:1.03452\n",
      "[68]\tvalidation_0-rmse:1.03342\n",
      "[69]\tvalidation_0-rmse:1.03259\n",
      "[70]\tvalidation_0-rmse:1.03158\n",
      "[71]\tvalidation_0-rmse:1.03054\n",
      "[72]\tvalidation_0-rmse:1.0297\n",
      "[73]\tvalidation_0-rmse:1.02883\n",
      "[74]\tvalidation_0-rmse:1.02816\n",
      "[75]\tvalidation_0-rmse:1.02766\n",
      "[76]\tvalidation_0-rmse:1.02686\n",
      "[77]\tvalidation_0-rmse:1.02587\n",
      "[78]\tvalidation_0-rmse:1.02473\n",
      "[79]\tvalidation_0-rmse:1.02414\n",
      "[80]\tvalidation_0-rmse:1.02304\n",
      "[81]\tvalidation_0-rmse:1.02237\n",
      "[82]\tvalidation_0-rmse:1.02073\n",
      "[83]\tvalidation_0-rmse:1.01998\n",
      "[84]\tvalidation_0-rmse:1.01876\n",
      "[85]\tvalidation_0-rmse:1.01791\n",
      "[86]\tvalidation_0-rmse:1.01709\n",
      "[87]\tvalidation_0-rmse:1.0165\n",
      "[88]\tvalidation_0-rmse:1.01586\n",
      "[89]\tvalidation_0-rmse:1.01518\n",
      "[90]\tvalidation_0-rmse:1.01449\n",
      "[91]\tvalidation_0-rmse:1.01388\n",
      "[92]\tvalidation_0-rmse:1.01319\n",
      "[93]\tvalidation_0-rmse:1.01264\n",
      "[94]\tvalidation_0-rmse:1.01123\n",
      "[95]\tvalidation_0-rmse:1.01079\n",
      "[96]\tvalidation_0-rmse:1.0102\n",
      "[97]\tvalidation_0-rmse:1.00969\n",
      "[98]\tvalidation_0-rmse:1.00909\n",
      "[99]\tvalidation_0-rmse:1.0081\n"
     ]
    }
   ],
   "source": [
    "# Instantiate XGBRegressor\n",
    "clf = XGBRegressor(objective=\"reg:linear\")\n",
    "\n",
    "# Fit XGBRegressor\n",
    "clf.fit(X_train, y_train, eval_metric='rmse', verbose = True, eval_set = [(X_test, y_test)])\n",
    "\n",
    "# Predict on training and test sets\n",
    "training_preds = clf.predict(X_train)\n",
    "test_preds = clf.predict(X_test)"
   ]
  },
  {
   "cell_type": "code",
   "execution_count": 33,
   "metadata": {},
   "outputs": [
    {
     "name": "stdout",
     "output_type": "stream",
     "text": [
      "\n",
      "Mean Square error\"  1.0162572429739574\n"
     ]
    }
   ],
   "source": [
    "print('\\nMean Square error\" ', sklearn.metrics.mean_squared_error(y_test,test_preds))"
   ]
  },
  {
   "cell_type": "markdown",
   "metadata": {},
   "source": [
    "# run the model using different protein featurization method"
   ]
  },
  {
   "cell_type": "code",
   "execution_count": 36,
   "metadata": {},
   "outputs": [
    {
     "data": {
      "text/html": [
       "<div>\n",
       "<style scoped>\n",
       "    .dataframe tbody tr th:only-of-type {\n",
       "        vertical-align: middle;\n",
       "    }\n",
       "\n",
       "    .dataframe tbody tr th {\n",
       "        vertical-align: top;\n",
       "    }\n",
       "\n",
       "    .dataframe thead th {\n",
       "        text-align: right;\n",
       "    }\n",
       "</style>\n",
       "<table border=\"1\" class=\"dataframe\">\n",
       "  <thead>\n",
       "    <tr style=\"text-align: right;\">\n",
       "      <th></th>\n",
       "      <th>Unnamed: 0</th>\n",
       "      <th>compound_id</th>\n",
       "      <th>target_id</th>\n",
       "      <th>pchembl_value</th>\n",
       "      <th>encode_0</th>\n",
       "      <th>encode_1</th>\n",
       "      <th>encode_2</th>\n",
       "      <th>encode_3</th>\n",
       "      <th>encode_4</th>\n",
       "      <th>encode_5</th>\n",
       "      <th>...</th>\n",
       "      <th>ECFP4.1015</th>\n",
       "      <th>ECFP4.1016</th>\n",
       "      <th>ECFP4.1017</th>\n",
       "      <th>ECFP4.1018</th>\n",
       "      <th>ECFP4.1019</th>\n",
       "      <th>ECFP4.1020</th>\n",
       "      <th>ECFP4.1021</th>\n",
       "      <th>ECFP4.1022</th>\n",
       "      <th>ECFP4.1023</th>\n",
       "      <th>ECFP4.1024</th>\n",
       "    </tr>\n",
       "  </thead>\n",
       "  <tbody>\n",
       "    <tr>\n",
       "      <td>0</td>\n",
       "      <td>0</td>\n",
       "      <td>CHEMBL1000</td>\n",
       "      <td>Q02763</td>\n",
       "      <td>4.05</td>\n",
       "      <td>11</td>\n",
       "      <td>14</td>\n",
       "      <td>12</td>\n",
       "      <td>3</td>\n",
       "      <td>1</td>\n",
       "      <td>12</td>\n",
       "      <td>...</td>\n",
       "      <td>0</td>\n",
       "      <td>0</td>\n",
       "      <td>0</td>\n",
       "      <td>0</td>\n",
       "      <td>0</td>\n",
       "      <td>0</td>\n",
       "      <td>0</td>\n",
       "      <td>0</td>\n",
       "      <td>0</td>\n",
       "      <td>0</td>\n",
       "    </tr>\n",
       "    <tr>\n",
       "      <td>1</td>\n",
       "      <td>1</td>\n",
       "      <td>CHEMBL103667</td>\n",
       "      <td>Q02763</td>\n",
       "      <td>7.70</td>\n",
       "      <td>11</td>\n",
       "      <td>14</td>\n",
       "      <td>12</td>\n",
       "      <td>3</td>\n",
       "      <td>1</td>\n",
       "      <td>12</td>\n",
       "      <td>...</td>\n",
       "      <td>0</td>\n",
       "      <td>0</td>\n",
       "      <td>0</td>\n",
       "      <td>0</td>\n",
       "      <td>0</td>\n",
       "      <td>0</td>\n",
       "      <td>0</td>\n",
       "      <td>0</td>\n",
       "      <td>0</td>\n",
       "      <td>0</td>\n",
       "    </tr>\n",
       "    <tr>\n",
       "      <td>2</td>\n",
       "      <td>2</td>\n",
       "      <td>CHEMBL103667</td>\n",
       "      <td>P12931</td>\n",
       "      <td>4.46</td>\n",
       "      <td>11</td>\n",
       "      <td>19</td>\n",
       "      <td>12</td>\n",
       "      <td>8</td>\n",
       "      <td>18</td>\n",
       "      <td>12</td>\n",
       "      <td>...</td>\n",
       "      <td>0</td>\n",
       "      <td>0</td>\n",
       "      <td>0</td>\n",
       "      <td>0</td>\n",
       "      <td>0</td>\n",
       "      <td>0</td>\n",
       "      <td>0</td>\n",
       "      <td>0</td>\n",
       "      <td>0</td>\n",
       "      <td>0</td>\n",
       "    </tr>\n",
       "    <tr>\n",
       "      <td>3</td>\n",
       "      <td>3</td>\n",
       "      <td>CHEMBL103667</td>\n",
       "      <td>P35968</td>\n",
       "      <td>5.50</td>\n",
       "      <td>11</td>\n",
       "      <td>10</td>\n",
       "      <td>12</td>\n",
       "      <td>18</td>\n",
       "      <td>4</td>\n",
       "      <td>3</td>\n",
       "      <td>...</td>\n",
       "      <td>0</td>\n",
       "      <td>0</td>\n",
       "      <td>0</td>\n",
       "      <td>0</td>\n",
       "      <td>0</td>\n",
       "      <td>0</td>\n",
       "      <td>0</td>\n",
       "      <td>0</td>\n",
       "      <td>0</td>\n",
       "      <td>0</td>\n",
       "    </tr>\n",
       "    <tr>\n",
       "      <td>4</td>\n",
       "      <td>4</td>\n",
       "      <td>CHEMBL103667</td>\n",
       "      <td>P09619</td>\n",
       "      <td>5.96</td>\n",
       "      <td>11</td>\n",
       "      <td>16</td>\n",
       "      <td>3</td>\n",
       "      <td>20</td>\n",
       "      <td>19</td>\n",
       "      <td>1</td>\n",
       "      <td>...</td>\n",
       "      <td>0</td>\n",
       "      <td>0</td>\n",
       "      <td>0</td>\n",
       "      <td>0</td>\n",
       "      <td>0</td>\n",
       "      <td>0</td>\n",
       "      <td>0</td>\n",
       "      <td>0</td>\n",
       "      <td>0</td>\n",
       "      <td>0</td>\n",
       "    </tr>\n",
       "  </tbody>\n",
       "</table>\n",
       "<p>5 rows × 5028 columns</p>\n",
       "</div>"
      ],
      "text/plain": [
       "   Unnamed: 0   compound_id target_id  pchembl_value  encode_0  encode_1  \\\n",
       "0           0    CHEMBL1000    Q02763           4.05        11        14   \n",
       "1           1  CHEMBL103667    Q02763           7.70        11        14   \n",
       "2           2  CHEMBL103667    P12931           4.46        11        19   \n",
       "3           3  CHEMBL103667    P35968           5.50        11        10   \n",
       "4           4  CHEMBL103667    P09619           5.96        11        16   \n",
       "\n",
       "   encode_2  encode_3  encode_4  encode_5  ...  ECFP4.1015  ECFP4.1016  \\\n",
       "0        12         3         1        12  ...           0           0   \n",
       "1        12         3         1        12  ...           0           0   \n",
       "2        12         8        18        12  ...           0           0   \n",
       "3        12        18         4         3  ...           0           0   \n",
       "4         3        20        19         1  ...           0           0   \n",
       "\n",
       "   ECFP4.1017  ECFP4.1018  ECFP4.1019  ECFP4.1020  ECFP4.1021  ECFP4.1022  \\\n",
       "0           0           0           0           0           0           0   \n",
       "1           0           0           0           0           0           0   \n",
       "2           0           0           0           0           0           0   \n",
       "3           0           0           0           0           0           0   \n",
       "4           0           0           0           0           0           0   \n",
       "\n",
       "   ECFP4.1023  ECFP4.1024  \n",
       "0           0           0  \n",
       "1           0           0  \n",
       "2           0           0  \n",
       "3           0           0  \n",
       "4           0           0  \n",
       "\n",
       "[5 rows x 5028 columns]"
      ]
     },
     "execution_count": 36,
     "metadata": {},
     "output_type": "execute_result"
    }
   ],
   "source": [
    "data = pd.read_csv('cleaned_data/first_data.csv')\n",
    "data.head()"
   ]
  },
  {
   "cell_type": "code",
   "execution_count": 37,
   "metadata": {},
   "outputs": [
    {
     "data": {
      "text/plain": [
       "Index(['Unnamed: 0', 'compound_id', 'target_id', 'pchembl_value', 'encode_0',\n",
       "       'encode_1', 'encode_2', 'encode_3', 'encode_4', 'encode_5',\n",
       "       ...\n",
       "       'ECFP4.1015', 'ECFP4.1016', 'ECFP4.1017', 'ECFP4.1018', 'ECFP4.1019',\n",
       "       'ECFP4.1020', 'ECFP4.1021', 'ECFP4.1022', 'ECFP4.1023', 'ECFP4.1024'],\n",
       "      dtype='object', length=5028)"
      ]
     },
     "execution_count": 37,
     "metadata": {},
     "output_type": "execute_result"
    }
   ],
   "source": [
    "data.columns"
   ]
  },
  {
   "cell_type": "code",
   "execution_count": 38,
   "metadata": {},
   "outputs": [],
   "source": [
    "y = data['pchembl_value']\n",
    "X = data.drop(['Unnamed: 0', 'compound_id', 'target_id', 'pchembl_value'], axis=1)\n",
    "\n",
    "X_train, X_test, y_train, y_test = train_test_split(X, y, random_state=42)"
   ]
  },
  {
   "cell_type": "code",
   "execution_count": 39,
   "metadata": {
    "collapsed": true
   },
   "outputs": [
    {
     "name": "stdout",
     "output_type": "stream",
     "text": [
      "[0]\tvalidation_0-rmse:5.98352\n",
      "[1]\tvalidation_0-rmse:5.41005\n",
      "[2]\tvalidation_0-rmse:4.89609\n",
      "[3]\tvalidation_0-rmse:4.43631\n",
      "[4]\tvalidation_0-rmse:4.02511\n",
      "[5]\tvalidation_0-rmse:3.65774\n",
      "[6]\tvalidation_0-rmse:3.32993\n",
      "[7]\tvalidation_0-rmse:3.0379\n",
      "[8]\tvalidation_0-rmse:2.77903\n",
      "[9]\tvalidation_0-rmse:2.54936\n",
      "[10]\tvalidation_0-rmse:2.34604\n",
      "[11]\tvalidation_0-rmse:2.16799\n",
      "[12]\tvalidation_0-rmse:2.01125\n",
      "[13]\tvalidation_0-rmse:1.87443\n",
      "[14]\tvalidation_0-rmse:1.75494\n",
      "[15]\tvalidation_0-rmse:1.65175\n",
      "[16]\tvalidation_0-rmse:1.56242\n",
      "[17]\tvalidation_0-rmse:1.48517\n",
      "[18]\tvalidation_0-rmse:1.41941\n",
      "[19]\tvalidation_0-rmse:1.36352\n",
      "[20]\tvalidation_0-rmse:1.31614\n",
      "[21]\tvalidation_0-rmse:1.27627\n",
      "[22]\tvalidation_0-rmse:1.2419\n",
      "[23]\tvalidation_0-rmse:1.21262\n",
      "[24]\tvalidation_0-rmse:1.18883\n",
      "[25]\tvalidation_0-rmse:1.16864\n",
      "[26]\tvalidation_0-rmse:1.15172\n",
      "[27]\tvalidation_0-rmse:1.13722\n",
      "[28]\tvalidation_0-rmse:1.1253\n",
      "[29]\tvalidation_0-rmse:1.11505\n",
      "[30]\tvalidation_0-rmse:1.10639\n",
      "[31]\tvalidation_0-rmse:1.09872\n",
      "[32]\tvalidation_0-rmse:1.09218\n",
      "[33]\tvalidation_0-rmse:1.08689\n",
      "[34]\tvalidation_0-rmse:1.08206\n",
      "[35]\tvalidation_0-rmse:1.07792\n",
      "[36]\tvalidation_0-rmse:1.07455\n",
      "[37]\tvalidation_0-rmse:1.07105\n",
      "[38]\tvalidation_0-rmse:1.06773\n",
      "[39]\tvalidation_0-rmse:1.06533\n",
      "[40]\tvalidation_0-rmse:1.06244\n",
      "[41]\tvalidation_0-rmse:1.06017\n",
      "[42]\tvalidation_0-rmse:1.05779\n",
      "[43]\tvalidation_0-rmse:1.05574\n",
      "[44]\tvalidation_0-rmse:1.05409\n",
      "[45]\tvalidation_0-rmse:1.05242\n",
      "[46]\tvalidation_0-rmse:1.05017\n",
      "[47]\tvalidation_0-rmse:1.04837\n",
      "[48]\tvalidation_0-rmse:1.04682\n",
      "[49]\tvalidation_0-rmse:1.04507\n",
      "[50]\tvalidation_0-rmse:1.04359\n",
      "[51]\tvalidation_0-rmse:1.04227\n",
      "[52]\tvalidation_0-rmse:1.04054\n",
      "[53]\tvalidation_0-rmse:1.03942\n",
      "[54]\tvalidation_0-rmse:1.03839\n",
      "[55]\tvalidation_0-rmse:1.03725\n",
      "[56]\tvalidation_0-rmse:1.03598\n",
      "[57]\tvalidation_0-rmse:1.03465\n",
      "[58]\tvalidation_0-rmse:1.03305\n",
      "[59]\tvalidation_0-rmse:1.03173\n",
      "[60]\tvalidation_0-rmse:1.03069\n",
      "[61]\tvalidation_0-rmse:1.02971\n",
      "[62]\tvalidation_0-rmse:1.02842\n",
      "[63]\tvalidation_0-rmse:1.02744\n",
      "[64]\tvalidation_0-rmse:1.02664\n",
      "[65]\tvalidation_0-rmse:1.02536\n",
      "[66]\tvalidation_0-rmse:1.02432\n",
      "[67]\tvalidation_0-rmse:1.02363\n",
      "[68]\tvalidation_0-rmse:1.02272\n",
      "[69]\tvalidation_0-rmse:1.02183\n",
      "[70]\tvalidation_0-rmse:1.02107\n",
      "[71]\tvalidation_0-rmse:1.01991\n",
      "[72]\tvalidation_0-rmse:1.01859\n",
      "[73]\tvalidation_0-rmse:1.01757\n",
      "[74]\tvalidation_0-rmse:1.01671\n",
      "[75]\tvalidation_0-rmse:1.01571\n",
      "[76]\tvalidation_0-rmse:1.01528\n",
      "[77]\tvalidation_0-rmse:1.01437\n",
      "[78]\tvalidation_0-rmse:1.01311\n",
      "[79]\tvalidation_0-rmse:1.01222\n",
      "[80]\tvalidation_0-rmse:1.01158\n",
      "[81]\tvalidation_0-rmse:1.01083\n",
      "[82]\tvalidation_0-rmse:1.00991\n",
      "[83]\tvalidation_0-rmse:1.00936\n",
      "[84]\tvalidation_0-rmse:1.00854\n",
      "[85]\tvalidation_0-rmse:1.00752\n",
      "[86]\tvalidation_0-rmse:1.00646\n",
      "[87]\tvalidation_0-rmse:1.00553\n",
      "[88]\tvalidation_0-rmse:1.00467\n",
      "[89]\tvalidation_0-rmse:1.00397\n",
      "[90]\tvalidation_0-rmse:1.00301\n",
      "[91]\tvalidation_0-rmse:1.00224\n",
      "[92]\tvalidation_0-rmse:1.00141\n",
      "[93]\tvalidation_0-rmse:1.00081\n",
      "[94]\tvalidation_0-rmse:1.00017\n",
      "[95]\tvalidation_0-rmse:0.999058\n",
      "[96]\tvalidation_0-rmse:0.998315\n",
      "[97]\tvalidation_0-rmse:0.997584\n",
      "[98]\tvalidation_0-rmse:0.996879\n",
      "[99]\tvalidation_0-rmse:0.996395\n"
     ]
    }
   ],
   "source": [
    "# Instantiate XGBRegressor\n",
    "clf = XGBRegressor(objective=\"reg:linear\")\n",
    "\n",
    "# Fit XGBRegressor\n",
    "clf.fit(X_train, y_train, eval_metric='rmse', verbose = True, eval_set = [(X_test, y_test)])\n",
    "\n",
    "# Predict on training and test sets\n",
    "training_preds = clf.predict(X_train)\n",
    "test_preds = clf.predict(X_test)"
   ]
  },
  {
   "cell_type": "code",
   "execution_count": 40,
   "metadata": {},
   "outputs": [
    {
     "name": "stdout",
     "output_type": "stream",
     "text": [
      "\n",
      "Mean Square error\"  0.9928025492925805\n"
     ]
    }
   ],
   "source": [
    "print('\\nMean Square error\" ', sklearn.metrics.mean_squared_error(y_test,test_preds))"
   ]
  },
  {
   "cell_type": "code",
   "execution_count": 41,
   "metadata": {},
   "outputs": [],
   "source": [
    "import joblib"
   ]
  },
  {
   "cell_type": "code",
   "execution_count": 43,
   "metadata": {},
   "outputs": [
    {
     "data": {
      "text/plain": [
       "['model/xgb_onehot.pkl']"
      ]
     },
     "execution_count": 43,
     "metadata": {},
     "output_type": "execute_result"
    }
   ],
   "source": [
    "joblib.dump(clf, 'model/xgb_onehot.pkl')"
   ]
  },
  {
   "cell_type": "markdown",
   "metadata": {},
   "source": [
    "# random forest test"
   ]
  },
  {
   "cell_type": "code",
   "execution_count": 46,
   "metadata": {},
   "outputs": [],
   "source": [
    "y = df['pchembl_value']\n",
    "X = df.drop(['compound_id', 'target_id', 'pchembl_value'], axis=1)\n",
    "\n",
    "X_train, X_test, y_train, y_test = train_test_split(X, y, random_state=42)"
   ]
  },
  {
   "cell_type": "code",
   "execution_count": 47,
   "metadata": {},
   "outputs": [],
   "source": [
    "#RF regression based model generation and prediction\n",
    "RFreg = RandomForestRegressor(n_estimators=100,max_features=0.33,random_state=42)\n",
    "\n",
    "RFreg.fit(X_train, y_train)\n",
    "pred_result = RFreg.predict(X_test)"
   ]
  },
  {
   "cell_type": "code",
   "execution_count": 48,
   "metadata": {},
   "outputs": [
    {
     "name": "stdout",
     "output_type": "stream",
     "text": [
      "\n",
      "Mean Square error\"  0.4192608985677407\n"
     ]
    }
   ],
   "source": [
    "print('\\nMean Square error\" ', sklearn.metrics.mean_squared_error(y_test,pred_result))"
   ]
  },
  {
   "cell_type": "code",
   "execution_count": 49,
   "metadata": {},
   "outputs": [
    {
     "data": {
      "text/plain": [
       "['model/rfreg_onehot.pkl']"
      ]
     },
     "execution_count": 49,
     "metadata": {},
     "output_type": "execute_result"
    }
   ],
   "source": [
    "joblib.dump(RFreg, 'model/rfreg_onehot.pkl')"
   ]
  },
  {
   "cell_type": "code",
   "execution_count": null,
   "metadata": {},
   "outputs": [],
   "source": []
  }
 ],
 "metadata": {
  "kernelspec": {
   "display_name": "Python [conda env:learn-env] *",
   "language": "python",
   "name": "conda-env-learn-env-py"
  },
  "language_info": {
   "codemirror_mode": {
    "name": "ipython",
    "version": 3
   },
   "file_extension": ".py",
   "mimetype": "text/x-python",
   "name": "python",
   "nbconvert_exporter": "python",
   "pygments_lexer": "ipython3",
   "version": "3.6.6"
  }
 },
 "nbformat": 4,
 "nbformat_minor": 2
}
