{
 "cells": [
  {
   "cell_type": "markdown",
   "metadata": {},
   "source": [
    "## Protein Sequence\n",
    "\n",
    "In this notebook we will collect the protein sequence of our targets. We will be collecting it based on their uniprot ID. I will be using a differnt method to get the protein sequences, by making request for each uniprot id."
   ]
  },
  {
   "cell_type": "code",
   "execution_count": 1,
   "metadata": {},
   "outputs": [],
   "source": [
    "# load the libraries\n",
    "import pandas as pd\n",
    "import requests"
   ]
  },
  {
   "cell_type": "code",
   "execution_count": 2,
   "metadata": {},
   "outputs": [],
   "source": [
    "'''\n",
    "In the uniprot website I have noticed that if i simply put the unitprot id at the end of following url\n",
    "\"https://www.uniprot.org/uniprot/\" then it helps me get the sequence in a text format. I will use this method\n",
    "to retrieve the sequence and see what changes it needs to make it proper.\n",
    "'''\n",
    "\n",
    "text = requests.get('https://www.uniprot.org/uniprot/O00238.fasta')"
   ]
  },
  {
   "cell_type": "code",
   "execution_count": 3,
   "metadata": {},
   "outputs": [
    {
     "data": {
      "text/plain": [
       "'>sp|O00238|BMR1B_HUMAN Bone morphogenetic protein receptor type-1B OS=Homo sapiens OX=9606 GN=BMPR1B PE=1 SV=1\\nMLLRSAGKLNVGTKKEDGESTAPTPRPKVLRCKCHHHCPEDSVNNICSTDGYCFTMIEED\\nDSGLPVVTSGCLGLEGSDFQCRDTPIPHQRRSIECCTERNECNKDLHPTLPPLKNRDFVD\\nGPIHHRALLISVTVCSLLLVLIILFCYFRYKRQETRPRYSIGLEQDETYIPPGESLRDLI\\nEQSQSSGSGSGLPLLVQRTIAKQIQMVKQIGKGRYGEVWMGKWRGEKVAVKVFFTTEEAS\\nWFRETEIYQTVLMRHENILGFIAADIKGTGSWTQLYLITDYHENGSLYDYLKSTTLDAKS\\nMLKLAYSSVSGLCHLHTEIFSTQGKPAIAHRDLKSKNILVKKNGTCCIADLGLAVKFISD\\nTNEVDIPPNTRVGTKRYMPPEVLDESLNRNHFQSYIMADMYSFGLILWEVARRCVSGGIV\\nEEYQLPYHDLVPSDPSYEDMREIVCIKKLRPSFPNRWSSDECLRQMGKLMTECWAHNPAS\\nRLTALRVKKTLAKMSESQDIKL\\n'"
      ]
     },
     "execution_count": 3,
     "metadata": {},
     "output_type": "execute_result"
    }
   ],
   "source": [
    "seq = text.text\n",
    "seq # we look at the text"
   ]
  },
  {
   "cell_type": "markdown",
   "metadata": {},
   "source": [
    "This is quiet good enough. I just need to do minor changes to the text to acquire the information that I need. We can do in following steps."
   ]
  },
  {
   "cell_type": "code",
   "execution_count": 4,
   "metadata": {},
   "outputs": [
    {
     "data": {
      "text/plain": [
       "110"
      ]
     },
     "execution_count": 4,
     "metadata": {},
     "output_type": "execute_result"
    }
   ],
   "source": [
    "# find the index for next line\n",
    "seq.find('\\n')"
   ]
  },
  {
   "cell_type": "code",
   "execution_count": 5,
   "metadata": {},
   "outputs": [],
   "source": [
    "protein = seq[111:] # save the information after the first line"
   ]
  },
  {
   "cell_type": "code",
   "execution_count": 6,
   "metadata": {},
   "outputs": [
    {
     "data": {
      "text/plain": [
       "'MLLRSAGKLNVGTKKEDGESTAPTPRPKVLRCKCHHHCPEDSVNNICSTDGYCFTMIEEDDSGLPVVTSGCLGLEGSDFQCRDTPIPHQRRSIECCTERNECNKDLHPTLPPLKNRDFVDGPIHHRALLISVTVCSLLLVLIILFCYFRYKRQETRPRYSIGLEQDETYIPPGESLRDLIEQSQSSGSGSGLPLLVQRTIAKQIQMVKQIGKGRYGEVWMGKWRGEKVAVKVFFTTEEASWFRETEIYQTVLMRHENILGFIAADIKGTGSWTQLYLITDYHENGSLYDYLKSTTLDAKSMLKLAYSSVSGLCHLHTEIFSTQGKPAIAHRDLKSKNILVKKNGTCCIADLGLAVKFISDTNEVDIPPNTRVGTKRYMPPEVLDESLNRNHFQSYIMADMYSFGLILWEVARRCVSGGIVEEYQLPYHDLVPSDPSYEDMREIVCIKKLRPSFPNRWSSDECLRQMGKLMTECWAHNPASRLTALRVKKTLAKMSESQDIKL'"
      ]
     },
     "execution_count": 6,
     "metadata": {},
     "output_type": "execute_result"
    }
   ],
   "source": [
    "protein.replace('\\n', '') # replace all the next line with empty string so it becomes a single continuous sequence"
   ]
  },
  {
   "cell_type": "code",
   "execution_count": 7,
   "metadata": {},
   "outputs": [],
   "source": [
    "# created a list of all the target uniprot ID's we will get the information for all of them\n",
    "\n",
    "targets = ['P06213', 'P78368', 'Q9H2K8', 'P49336', 'Q6DT37', 'P09619', 'Q9Y463', 'P04626', \n",
    "           'P11802', 'P49674', 'Q05397', 'Q07912', 'Q13873', 'P45985', 'Q96D53', 'P42345', \n",
    "           'Q13233', 'P27037', 'P43405', 'O15075', 'P49759', 'P53355', 'O94804', 'P19525', \n",
    "           'P53671', 'Q9NRP7', 'P57078', 'Q92630', 'Q13237', 'P45984', 'Q02779', 'P52564', \n",
    "           'O60674', 'P07332', 'P33981', 'P04629', 'P30291', 'Q9UK32', 'Q15835', 'P53350', \n",
    "           'Q96RR4', 'Q8IVW4', 'P80192', 'Q9Y2U5', 'O15530', 'O15146', 'Q9BYP7', 'Q13163', \n",
    "           'P68400', 'P14616', 'P07949', 'O94768', 'Q12851', 'Q9UHD2', 'Q13470', 'P35916', \n",
    "           'P36888', 'O75676', 'Q16832', 'P37173', 'Q13188', 'P48729', 'Q8NE63', 'Q16539', \n",
    "           'P35968', 'Q8NI60', 'P19784', 'Q8WTQ7', 'Q15349', 'P22455', 'Q02763', 'Q13705', \n",
    "           'P42338', 'P00519', 'P29597', 'P27361', 'Q9BZL6', 'P0C1S8', 'P24723', 'O00444', \n",
    "           'Q08345', 'Q04759', 'P31751', 'P49840', 'P45983', 'Q9NYY3', 'O14965', 'Q92772', \n",
    "           'Q9UEE5', 'O75914', 'P06239', 'Q9BWU1', 'Q9Y243', 'O14578', 'P48736', 'P35590', \n",
    "           'O60331', 'P51813', 'O43683', 'Q9NSY1', 'Q96GD4', 'O14730', 'O15197', 'Q92918', \n",
    "           'P53779', 'Q8TF76', 'P29376', 'Q8IVH8', 'P30530', 'O76039', 'Q9H1R3', 'P15735', \n",
    "           'Q8TD08', 'P07333', 'Q00526', 'Q86Z02', 'Q9NYL2', 'Q6XUX3', 'P17612', 'Q9H2G2', \n",
    "           'P16591', 'Q8WXR4', 'P10721', 'Q86YV6', 'P51617', 'P49841', 'P31749', 'Q86Y07', \n",
    "           'Q99759', 'P29323', 'Q8TBX8', 'P50613', 'Q9C098', 'Q8IY84', 'P48730', 'Q9H4B4', \n",
    "           'P12931', 'Q05655', 'Q9UBF8', 'Q15418', 'O00141', 'O96017', 'Q96PY6', 'O94806', \n",
    "           'P49760', 'Q9UIK4', 'P51956', 'Q9UM73', 'Q9Y616', 'Q9Y4K4', 'O14757', 'P22607', \n",
    "           'P46734', 'Q9H422', 'P16234', 'Q8N5S9', 'O75716', 'P42685', 'Q09013', 'Q13043', \n",
    "           'Q9UBE8', 'Q6PHR2', 'P25098', 'Q96Q40', 'O14936', 'P42684', 'Q9BVS4', 'Q13627', \n",
    "           'O00506', 'Q6P3R8', 'Q9P2K8', 'P51817', 'P51451', 'O43293', 'Q9BRS2', 'Q14289', \n",
    "           'O14920', 'P21860', 'Q7L7X3', 'Q9Y6E0', 'Q9HAZ1', 'Q56UN5', 'Q02156', 'Q16288', \n",
    "           'Q15759', 'Q12866', 'Q9H2X6', 'P54753', 'P08922', 'P52333', 'Q9UQB9', 'P08581', \n",
    "           'Q9Y6R4', 'Q16584', 'P21802', 'Q15746', 'P49137', 'Q8N568', 'Q9H093', 'P23458', \n",
    "           'Q9P286', 'O14976', 'P17948', 'Q16620']"
   ]
  },
  {
   "cell_type": "code",
   "execution_count": 8,
   "metadata": {},
   "outputs": [],
   "source": [
    "# We will store all the sequence information in a new dataframe\n",
    "\n",
    "proteinset = pd.DataFrame({'target_id': [],\n",
    "                           'Sequence':[]\n",
    "                          })"
   ]
  },
  {
   "cell_type": "code",
   "execution_count": 9,
   "metadata": {},
   "outputs": [],
   "source": [
    "# run this cell to get all the sequences\n",
    "\n",
    "for target in targets:\n",
    "    sequence = requests.get(f'https://www.uniprot.org/uniprot/{target}.fasta').text\n",
    "    ind = sequence.find('\\n')\n",
    "    raw = sequence[ind+1:]\n",
    "    protein = raw.replace('\\n', '')\n",
    "    row = proteinset.shape[0]\n",
    "    proteinset.loc[row] = [target, protein]"
   ]
  },
  {
   "cell_type": "code",
   "execution_count": 10,
   "metadata": {},
   "outputs": [
    {
     "data": {
      "text/html": [
       "<div>\n",
       "<style scoped>\n",
       "    .dataframe tbody tr th:only-of-type {\n",
       "        vertical-align: middle;\n",
       "    }\n",
       "\n",
       "    .dataframe tbody tr th {\n",
       "        vertical-align: top;\n",
       "    }\n",
       "\n",
       "    .dataframe thead th {\n",
       "        text-align: right;\n",
       "    }\n",
       "</style>\n",
       "<table border=\"1\" class=\"dataframe\">\n",
       "  <thead>\n",
       "    <tr style=\"text-align: right;\">\n",
       "      <th></th>\n",
       "      <th>target_id</th>\n",
       "      <th>Sequence</th>\n",
       "    </tr>\n",
       "  </thead>\n",
       "  <tbody>\n",
       "    <tr>\n",
       "      <td>0</td>\n",
       "      <td>P06213</td>\n",
       "      <td>MATGGRRGAAAAPLLVAVAALLLGAAGHLYPGEVCPGMDIRNNLTR...</td>\n",
       "    </tr>\n",
       "    <tr>\n",
       "      <td>1</td>\n",
       "      <td>P78368</td>\n",
       "      <td>MDFDKKGGKGETEEGRRMSKAGGGRSSHGIRSSGTSSGVLMVGPNF...</td>\n",
       "    </tr>\n",
       "    <tr>\n",
       "      <td>2</td>\n",
       "      <td>Q9H2K8</td>\n",
       "      <td>MRKGVLKDPEIADLFYKDDPEELFIGLHEIGHGSFGAVYFATNAHT...</td>\n",
       "    </tr>\n",
       "    <tr>\n",
       "      <td>3</td>\n",
       "      <td>P49336</td>\n",
       "      <td>MDYDFKVKLSSERERVEDLFEYEGCKVGRGTYGHVYKAKRKDGKDD...</td>\n",
       "    </tr>\n",
       "    <tr>\n",
       "      <td>4</td>\n",
       "      <td>Q6DT37</td>\n",
       "      <td>MERRLRALEQLARGEAGGCPGLDGLLDLLLALHHELSSGPLRRERS...</td>\n",
       "    </tr>\n",
       "  </tbody>\n",
       "</table>\n",
       "</div>"
      ],
      "text/plain": [
       "  target_id                                           Sequence\n",
       "0    P06213  MATGGRRGAAAAPLLVAVAALLLGAAGHLYPGEVCPGMDIRNNLTR...\n",
       "1    P78368  MDFDKKGGKGETEEGRRMSKAGGGRSSHGIRSSGTSSGVLMVGPNF...\n",
       "2    Q9H2K8  MRKGVLKDPEIADLFYKDDPEELFIGLHEIGHGSFGAVYFATNAHT...\n",
       "3    P49336  MDYDFKVKLSSERERVEDLFEYEGCKVGRGTYGHVYKAKRKDGKDD...\n",
       "4    Q6DT37  MERRLRALEQLARGEAGGCPGLDGLLDLLLALHHELSSGPLRRERS..."
      ]
     },
     "execution_count": 10,
     "metadata": {},
     "output_type": "execute_result"
    }
   ],
   "source": [
    "proteinset.head()"
   ]
  },
  {
   "cell_type": "code",
   "execution_count": 11,
   "metadata": {},
   "outputs": [],
   "source": [
    "# we save this\n",
    "proteinset.to_csv('../cleaned_data/seq_data.csv')"
   ]
  },
  {
   "cell_type": "markdown",
   "metadata": {},
   "source": [
    "## Featurising the sequence\n",
    "\n",
    "Our model cannot work with just the sequence information and so we need to find a way for represent them in anumerical format. I am gonna use a simple method of just turning all the sequences into a number representation for all the amino acid letters."
   ]
  },
  {
   "cell_type": "code",
   "execution_count": 12,
   "metadata": {},
   "outputs": [],
   "source": [
    "# write a function that converts sequence in to numbers for each amino acid\n",
    "\n",
    "seq_rdic = ['A','I','L','V','F','W','Y','N','C','Q','M','S','T','D','E','R','H','K','G','P','O','U','X','B','Z']\n",
    "seq_dic = {w: i+1 for i,w in enumerate(seq_rdic)}\n",
    "\n",
    "def encodeSeq(seq, seq_dic=seq_dic):\n",
    "    if pd.isnull(seq):\n",
    "        return [0]\n",
    "    else:\n",
    "        return [seq_dic[aa] for aa in seq]\n"
   ]
  },
  {
   "cell_type": "code",
   "execution_count": 15,
   "metadata": {},
   "outputs": [
    {
     "name": "stdout",
     "output_type": "stream",
     "text": [
      "[11, 14, 5, 14, 18, 18, 19, 19, 18, 19, 15, 13, 15, 15, 19, 16, 16, 11, 12, 18, 1, 19, 19, 19, 16, 12, 12, 17, 19, 2, 16, 12, 12, 19, 13, 12, 12, 19, 4, 3, 11, 4, 19, 20, 8, 5, 16, 4, 19, 18, 18, 2, 19, 9, 19, 8, 5, 19, 15, 3, 16, 3, 19, 18, 8, 3, 7, 13, 8, 15, 7, 4, 1, 2, 18, 3, 15, 20, 2, 18, 12, 16, 1, 20, 10, 3, 17, 3, 15, 7, 16, 5, 7, 18, 10, 3, 12, 1, 13, 15, 19, 4, 20, 10, 4, 7, 7, 5, 19, 20, 9, 19, 18, 7, 8, 1, 11, 4, 3, 15, 3, 3, 19, 20, 12, 3, 15, 14, 3, 5, 14, 3, 9, 14, 16, 13, 5, 13, 3, 18, 13, 4, 3, 11, 2, 1, 2, 10, 3, 2, 13, 16, 11, 15, 7, 4, 17, 13, 18, 12, 3, 2, 7, 16, 14, 4, 18, 20, 15, 8, 5, 3, 4, 19, 16, 20, 19, 13, 18, 16, 10, 17, 1, 2, 17, 2, 2, 14, 5, 19, 3, 1, 18, 15, 7, 2, 14, 20, 15, 13, 18, 18, 17, 2, 20, 7, 16, 15, 17, 18, 12, 3, 13, 19, 13, 1, 16, 7, 11, 12, 2, 8, 13, 17, 3, 19, 18, 15, 10, 12, 16, 16, 14, 14, 3, 15, 1, 3, 19, 17, 11, 5, 11, 7, 5, 3, 16, 19, 12, 3, 20, 6, 10, 19, 3, 18, 1, 14, 13, 3, 18, 15, 16, 7, 10, 18, 2, 19, 14, 13, 18, 16, 1, 13, 20, 2, 15, 4, 3, 9, 15, 8, 5, 20, 15, 15, 11, 1, 13, 7, 3, 16, 7, 4, 16, 16, 3, 14, 5, 5, 15, 18, 20, 14, 7, 14, 7, 3, 16, 18, 3, 5, 13, 14, 3, 5, 14, 16, 12, 19, 5, 4, 5, 14, 7, 15, 7, 14, 6, 1, 19, 18, 20, 3, 20, 13, 20, 2, 19, 13, 4, 17, 13, 14, 3, 20, 12, 10, 20, 10, 3, 16, 14, 18, 13, 10, 20, 17, 12, 18, 8, 10, 1, 3, 8, 12, 13, 8, 19, 15, 3, 8, 1, 14, 14, 20, 13, 1, 19, 17, 12, 8, 1, 20, 2, 13, 1, 20, 1, 15, 4, 15, 4, 1, 14, 15, 13, 18, 9, 9, 9, 5, 5, 18, 16, 16, 18, 16, 18, 12, 3, 10, 16, 17, 18]\n"
     ]
    }
   ],
   "source": [
    "seq = proteinset.Sequence[1] \n",
    "\n",
    "# test on the first sequence\n",
    "encode = encodeSeq(seq, seq_dic)\n",
    "print(encode)"
   ]
  },
  {
   "cell_type": "markdown",
   "metadata": {},
   "source": [
    "It works so now we make a new column called encoded and store all the numerical sequence values in them"
   ]
  },
  {
   "cell_type": "code",
   "execution_count": 23,
   "metadata": {},
   "outputs": [],
   "source": [
    "proteinset['encoded'] = proteinset['Sequence'].map(lambda x: encodeSeq(x, seq_dic))"
   ]
  },
  {
   "cell_type": "code",
   "execution_count": 24,
   "metadata": {},
   "outputs": [
    {
     "data": {
      "text/html": [
       "<div>\n",
       "<style scoped>\n",
       "    .dataframe tbody tr th:only-of-type {\n",
       "        vertical-align: middle;\n",
       "    }\n",
       "\n",
       "    .dataframe tbody tr th {\n",
       "        vertical-align: top;\n",
       "    }\n",
       "\n",
       "    .dataframe thead th {\n",
       "        text-align: right;\n",
       "    }\n",
       "</style>\n",
       "<table border=\"1\" class=\"dataframe\">\n",
       "  <thead>\n",
       "    <tr style=\"text-align: right;\">\n",
       "      <th></th>\n",
       "      <th>target_id</th>\n",
       "      <th>Sequence</th>\n",
       "      <th>encoded</th>\n",
       "    </tr>\n",
       "  </thead>\n",
       "  <tbody>\n",
       "    <tr>\n",
       "      <td>0</td>\n",
       "      <td>P06213</td>\n",
       "      <td>MATGGRRGAAAAPLLVAVAALLLGAAGHLYPGEVCPGMDIRNNLTR...</td>\n",
       "      <td>[11, 1, 13, 19, 19, 16, 16, 19, 1, 1, 1, 1, 20...</td>\n",
       "    </tr>\n",
       "    <tr>\n",
       "      <td>1</td>\n",
       "      <td>P78368</td>\n",
       "      <td>MDFDKKGGKGETEEGRRMSKAGGGRSSHGIRSSGTSSGVLMVGPNF...</td>\n",
       "      <td>[11, 14, 5, 14, 18, 18, 19, 19, 18, 19, 15, 13...</td>\n",
       "    </tr>\n",
       "    <tr>\n",
       "      <td>2</td>\n",
       "      <td>Q9H2K8</td>\n",
       "      <td>MRKGVLKDPEIADLFYKDDPEELFIGLHEIGHGSFGAVYFATNAHT...</td>\n",
       "      <td>[11, 16, 18, 19, 4, 3, 18, 14, 20, 15, 2, 1, 1...</td>\n",
       "    </tr>\n",
       "    <tr>\n",
       "      <td>3</td>\n",
       "      <td>P49336</td>\n",
       "      <td>MDYDFKVKLSSERERVEDLFEYEGCKVGRGTYGHVYKAKRKDGKDD...</td>\n",
       "      <td>[11, 14, 7, 14, 5, 18, 4, 18, 3, 12, 12, 15, 1...</td>\n",
       "    </tr>\n",
       "    <tr>\n",
       "      <td>4</td>\n",
       "      <td>Q6DT37</td>\n",
       "      <td>MERRLRALEQLARGEAGGCPGLDGLLDLLLALHHELSSGPLRRERS...</td>\n",
       "      <td>[11, 15, 16, 16, 3, 16, 1, 3, 15, 10, 3, 1, 16...</td>\n",
       "    </tr>\n",
       "  </tbody>\n",
       "</table>\n",
       "</div>"
      ],
      "text/plain": [
       "  target_id                                           Sequence  \\\n",
       "0    P06213  MATGGRRGAAAAPLLVAVAALLLGAAGHLYPGEVCPGMDIRNNLTR...   \n",
       "1    P78368  MDFDKKGGKGETEEGRRMSKAGGGRSSHGIRSSGTSSGVLMVGPNF...   \n",
       "2    Q9H2K8  MRKGVLKDPEIADLFYKDDPEELFIGLHEIGHGSFGAVYFATNAHT...   \n",
       "3    P49336  MDYDFKVKLSSERERVEDLFEYEGCKVGRGTYGHVYKAKRKDGKDD...   \n",
       "4    Q6DT37  MERRLRALEQLARGEAGGCPGLDGLLDLLLALHHELSSGPLRRERS...   \n",
       "\n",
       "                                             encoded  \n",
       "0  [11, 1, 13, 19, 19, 16, 16, 19, 1, 1, 1, 1, 20...  \n",
       "1  [11, 14, 5, 14, 18, 18, 19, 19, 18, 19, 15, 13...  \n",
       "2  [11, 16, 18, 19, 4, 3, 18, 14, 20, 15, 2, 1, 1...  \n",
       "3  [11, 14, 7, 14, 5, 18, 4, 18, 3, 12, 12, 15, 1...  \n",
       "4  [11, 15, 16, 16, 3, 16, 1, 3, 15, 10, 3, 1, 16...  "
      ]
     },
     "execution_count": 24,
     "metadata": {},
     "output_type": "execute_result"
    }
   ],
   "source": [
    "proteinset.head()"
   ]
  },
  {
   "cell_type": "markdown",
   "metadata": {},
   "source": [
    "The problem is that some sequences are long and some are very small. We need each of them to be of the same length. So I will define a function called padding which will basically turn the list into the same length of 3000 by adding a 0 at the end. I am choosing 3000 because the maximum length is 2549."
   ]
  },
  {
   "cell_type": "code",
   "execution_count": 19,
   "metadata": {},
   "outputs": [
    {
     "name": "stdout",
     "output_type": "stream",
     "text": [
      "2549\n"
     ]
    }
   ],
   "source": [
    "seqlen = []\n",
    "for seq in proteinset.encoded.values:\n",
    "    seqlen.append(len(seq))\n",
    "print(max(seqlen))"
   ]
  },
  {
   "cell_type": "code",
   "execution_count": 20,
   "metadata": {},
   "outputs": [],
   "source": [
    "def padding(seq):\n",
    "    for i in range(3000):\n",
    "        if i >= len(seq):\n",
    "            seq.append(0)"
   ]
  },
  {
   "cell_type": "code",
   "execution_count": 26,
   "metadata": {},
   "outputs": [],
   "source": [
    "proteinset['padded'] = proteinset['encoded'].map(lambda x: padding(x))"
   ]
  },
  {
   "cell_type": "code",
   "execution_count": 27,
   "metadata": {},
   "outputs": [
    {
     "name": "stdout",
     "output_type": "stream",
     "text": [
      "3000\n"
     ]
    }
   ],
   "source": [
    "seqlen = []\n",
    "for seq in proteinset.encoded.values:\n",
    "    seqlen.append(len(seq))\n",
    "print(max(seqlen))"
   ]
  },
  {
   "cell_type": "markdown",
   "metadata": {},
   "source": [
    "We need to create a new dataframe that has the target ID and the encoded seqences as separate columns, we do that in the following way"
   ]
  },
  {
   "cell_type": "code",
   "execution_count": 32,
   "metadata": {},
   "outputs": [],
   "source": [
    "protdata = proteinset[['target_id']]"
   ]
  },
  {
   "cell_type": "code",
   "execution_count": 33,
   "metadata": {},
   "outputs": [],
   "source": [
    "encodes = proteinset['encoded'].apply(pd.Series)"
   ]
  },
  {
   "cell_type": "code",
   "execution_count": 34,
   "metadata": {},
   "outputs": [],
   "source": [
    "encodes = encodes.rename(columns = lambda x : 'encode_' + str(x))"
   ]
  },
  {
   "cell_type": "code",
   "execution_count": 35,
   "metadata": {},
   "outputs": [],
   "source": [
    "protdata = pd.concat([protdata, encodes], axis=1)"
   ]
  },
  {
   "cell_type": "code",
   "execution_count": 36,
   "metadata": {},
   "outputs": [
    {
     "data": {
      "text/html": [
       "<div>\n",
       "<style scoped>\n",
       "    .dataframe tbody tr th:only-of-type {\n",
       "        vertical-align: middle;\n",
       "    }\n",
       "\n",
       "    .dataframe tbody tr th {\n",
       "        vertical-align: top;\n",
       "    }\n",
       "\n",
       "    .dataframe thead th {\n",
       "        text-align: right;\n",
       "    }\n",
       "</style>\n",
       "<table border=\"1\" class=\"dataframe\">\n",
       "  <thead>\n",
       "    <tr style=\"text-align: right;\">\n",
       "      <th></th>\n",
       "      <th>target_id</th>\n",
       "      <th>encode_0</th>\n",
       "      <th>encode_1</th>\n",
       "      <th>encode_2</th>\n",
       "      <th>encode_3</th>\n",
       "      <th>encode_4</th>\n",
       "      <th>encode_5</th>\n",
       "      <th>encode_6</th>\n",
       "      <th>encode_7</th>\n",
       "      <th>encode_8</th>\n",
       "      <th>...</th>\n",
       "      <th>encode_2990</th>\n",
       "      <th>encode_2991</th>\n",
       "      <th>encode_2992</th>\n",
       "      <th>encode_2993</th>\n",
       "      <th>encode_2994</th>\n",
       "      <th>encode_2995</th>\n",
       "      <th>encode_2996</th>\n",
       "      <th>encode_2997</th>\n",
       "      <th>encode_2998</th>\n",
       "      <th>encode_2999</th>\n",
       "    </tr>\n",
       "  </thead>\n",
       "  <tbody>\n",
       "    <tr>\n",
       "      <td>0</td>\n",
       "      <td>P06213</td>\n",
       "      <td>11</td>\n",
       "      <td>1</td>\n",
       "      <td>13</td>\n",
       "      <td>19</td>\n",
       "      <td>19</td>\n",
       "      <td>16</td>\n",
       "      <td>16</td>\n",
       "      <td>19</td>\n",
       "      <td>1</td>\n",
       "      <td>...</td>\n",
       "      <td>0</td>\n",
       "      <td>0</td>\n",
       "      <td>0</td>\n",
       "      <td>0</td>\n",
       "      <td>0</td>\n",
       "      <td>0</td>\n",
       "      <td>0</td>\n",
       "      <td>0</td>\n",
       "      <td>0</td>\n",
       "      <td>0</td>\n",
       "    </tr>\n",
       "    <tr>\n",
       "      <td>1</td>\n",
       "      <td>P78368</td>\n",
       "      <td>11</td>\n",
       "      <td>14</td>\n",
       "      <td>5</td>\n",
       "      <td>14</td>\n",
       "      <td>18</td>\n",
       "      <td>18</td>\n",
       "      <td>19</td>\n",
       "      <td>19</td>\n",
       "      <td>18</td>\n",
       "      <td>...</td>\n",
       "      <td>0</td>\n",
       "      <td>0</td>\n",
       "      <td>0</td>\n",
       "      <td>0</td>\n",
       "      <td>0</td>\n",
       "      <td>0</td>\n",
       "      <td>0</td>\n",
       "      <td>0</td>\n",
       "      <td>0</td>\n",
       "      <td>0</td>\n",
       "    </tr>\n",
       "    <tr>\n",
       "      <td>2</td>\n",
       "      <td>Q9H2K8</td>\n",
       "      <td>11</td>\n",
       "      <td>16</td>\n",
       "      <td>18</td>\n",
       "      <td>19</td>\n",
       "      <td>4</td>\n",
       "      <td>3</td>\n",
       "      <td>18</td>\n",
       "      <td>14</td>\n",
       "      <td>20</td>\n",
       "      <td>...</td>\n",
       "      <td>0</td>\n",
       "      <td>0</td>\n",
       "      <td>0</td>\n",
       "      <td>0</td>\n",
       "      <td>0</td>\n",
       "      <td>0</td>\n",
       "      <td>0</td>\n",
       "      <td>0</td>\n",
       "      <td>0</td>\n",
       "      <td>0</td>\n",
       "    </tr>\n",
       "    <tr>\n",
       "      <td>3</td>\n",
       "      <td>P49336</td>\n",
       "      <td>11</td>\n",
       "      <td>14</td>\n",
       "      <td>7</td>\n",
       "      <td>14</td>\n",
       "      <td>5</td>\n",
       "      <td>18</td>\n",
       "      <td>4</td>\n",
       "      <td>18</td>\n",
       "      <td>3</td>\n",
       "      <td>...</td>\n",
       "      <td>0</td>\n",
       "      <td>0</td>\n",
       "      <td>0</td>\n",
       "      <td>0</td>\n",
       "      <td>0</td>\n",
       "      <td>0</td>\n",
       "      <td>0</td>\n",
       "      <td>0</td>\n",
       "      <td>0</td>\n",
       "      <td>0</td>\n",
       "    </tr>\n",
       "    <tr>\n",
       "      <td>4</td>\n",
       "      <td>Q6DT37</td>\n",
       "      <td>11</td>\n",
       "      <td>15</td>\n",
       "      <td>16</td>\n",
       "      <td>16</td>\n",
       "      <td>3</td>\n",
       "      <td>16</td>\n",
       "      <td>1</td>\n",
       "      <td>3</td>\n",
       "      <td>15</td>\n",
       "      <td>...</td>\n",
       "      <td>0</td>\n",
       "      <td>0</td>\n",
       "      <td>0</td>\n",
       "      <td>0</td>\n",
       "      <td>0</td>\n",
       "      <td>0</td>\n",
       "      <td>0</td>\n",
       "      <td>0</td>\n",
       "      <td>0</td>\n",
       "      <td>0</td>\n",
       "    </tr>\n",
       "  </tbody>\n",
       "</table>\n",
       "<p>5 rows × 3001 columns</p>\n",
       "</div>"
      ],
      "text/plain": [
       "  target_id  encode_0  encode_1  encode_2  encode_3  encode_4  encode_5  \\\n",
       "0    P06213        11         1        13        19        19        16   \n",
       "1    P78368        11        14         5        14        18        18   \n",
       "2    Q9H2K8        11        16        18        19         4         3   \n",
       "3    P49336        11        14         7        14         5        18   \n",
       "4    Q6DT37        11        15        16        16         3        16   \n",
       "\n",
       "   encode_6  encode_7  encode_8  ...  encode_2990  encode_2991  encode_2992  \\\n",
       "0        16        19         1  ...            0            0            0   \n",
       "1        19        19        18  ...            0            0            0   \n",
       "2        18        14        20  ...            0            0            0   \n",
       "3         4        18         3  ...            0            0            0   \n",
       "4         1         3        15  ...            0            0            0   \n",
       "\n",
       "   encode_2993  encode_2994  encode_2995  encode_2996  encode_2997  \\\n",
       "0            0            0            0            0            0   \n",
       "1            0            0            0            0            0   \n",
       "2            0            0            0            0            0   \n",
       "3            0            0            0            0            0   \n",
       "4            0            0            0            0            0   \n",
       "\n",
       "   encode_2998  encode_2999  \n",
       "0            0            0  \n",
       "1            0            0  \n",
       "2            0            0  \n",
       "3            0            0  \n",
       "4            0            0  \n",
       "\n",
       "[5 rows x 3001 columns]"
      ]
     },
     "execution_count": 36,
     "metadata": {},
     "output_type": "execute_result"
    }
   ],
   "source": [
    "protdata.head()"
   ]
  },
  {
   "cell_type": "code",
   "execution_count": 37,
   "metadata": {},
   "outputs": [],
   "source": [
    "# we will save them into a csv file\n",
    "\n",
    "protdata.to_csv('../cleaned_data/seqdata.csv')"
   ]
  }
 ],
 "metadata": {
  "kernelspec": {
   "display_name": "Python 3",
   "language": "python",
   "name": "python3"
  },
  "language_info": {
   "codemirror_mode": {
    "name": "ipython",
    "version": 3
   },
   "file_extension": ".py",
   "mimetype": "text/x-python",
   "name": "python",
   "nbconvert_exporter": "python",
   "pygments_lexer": "ipython3",
   "version": "3.7.4"
  }
 },
 "nbformat": 4,
 "nbformat_minor": 4
}
