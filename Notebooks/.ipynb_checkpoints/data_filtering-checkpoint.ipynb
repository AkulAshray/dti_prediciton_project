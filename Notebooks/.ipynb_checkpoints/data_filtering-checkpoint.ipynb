{
 "cells": [
  {
   "cell_type": "markdown",
   "metadata": {},
   "source": [
    "## Filtering important compounds\n",
    "\n",
    "In this notebook is on data filetering and cleaning. There are too many compounds and their interactions mentioned in the datafile and I feel its going to be a lot to work with for a simple project, so its better I trim the set of compounds to only have those interactions where its easy to find data on chembl."
   ]
  },
  {
   "cell_type": "code",
   "execution_count": 1,
   "metadata": {},
   "outputs": [
    {
     "name": "stderr",
     "output_type": "stream",
     "text": [
      "/Users/flatiron/anaconda3/envs/learn-env/lib/python3.6/site-packages/IPython/core/interactiveshell.py:2785: DtypeWarning: Columns (0,1,2,3,8,14,21,22,23,24,25,26,27,30,32) have mixed types. Specify dtype option on import or set low_memory=False.\n",
      "  interactivity=interactivity, compiler=compiler, result=result)\n"
     ]
    }
   ],
   "source": [
    "# load the file as a pandas dataframe\n",
    "import pandas as pd\n",
    "\n",
    "df = pd.read_csv('../data/DtcDrugTargetInteractions_Jan_2019.csv', low_memory=True)"
   ]
  },
  {
   "cell_type": "code",
   "execution_count": 22,
   "metadata": {},
   "outputs": [
    {
     "data": {
      "text/plain": [
       "Index(['compound_id', 'standard_inchi_key', 'compound_name', 'synonym',\n",
       "       'target_id', 'target_pref_name', 'gene_names', 'wildtype_or_mutant',\n",
       "       'mutation_info', 'pubmed_id', 'standard_type', 'standard_relation',\n",
       "       'standard_value', 'standard_units', 'activity_comment',\n",
       "       'ep_action_mode', 'assay_format', 'assaytype', 'assay_subtype',\n",
       "       'inhibitor_type', 'detection_tech', 'assay_cell_line',\n",
       "       'compound_concentration_value', 'compound_concentration_value_unit',\n",
       "       'substrate_type', 'substrate_relation', 'substrate_value',\n",
       "       'substrate_units', 'assay_description', 'title', 'journal', 'doc_type',\n",
       "       'annotation_comments'],\n",
       "      dtype='object')"
      ]
     },
     "execution_count": 22,
     "metadata": {},
     "output_type": "execute_result"
    }
   ],
   "source": [
    "# check the columns\n",
    "df.columns"
   ]
  },
  {
   "cell_type": "markdown",
   "metadata": {},
   "source": [
    "There are too many columns which we are not interested in, I will just work with a small set as it will make it quicker to work with."
   ]
  },
  {
   "cell_type": "code",
   "execution_count": 2,
   "metadata": {},
   "outputs": [],
   "source": [
    "# Will subset the following columns for now as they repesent drug and target interaction\n",
    "\n",
    "df_set = df[['compound_id', 'standard_inchi_key', \n",
    "       'target_id', 'gene_names', 'wildtype_or_mutant', 'standard_type', 'standard_relation',\n",
    "       'standard_value', 'standard_units']]"
   ]
  },
  {
   "cell_type": "code",
   "execution_count": 3,
   "metadata": {},
   "outputs": [
    {
     "data": {
      "text/plain": [
       "compound_id            134222\n",
       "standard_inchi_key      91914\n",
       "target_id               14833\n",
       "gene_names            1216689\n",
       "wildtype_or_mutant    5805369\n",
       "standard_type             350\n",
       "standard_relation     2288713\n",
       "standard_value         378702\n",
       "standard_units         458412\n",
       "dtype: int64"
      ]
     },
     "execution_count": 3,
     "metadata": {},
     "output_type": "execute_result"
    }
   ],
   "source": [
    "df_set.isna().sum() # check the null values associated with these columns to decide which columns to drop"
   ]
  },
  {
   "cell_type": "code",
   "execution_count": 4,
   "metadata": {},
   "outputs": [
    {
     "data": {
      "text/html": [
       "<div>\n",
       "<style scoped>\n",
       "    .dataframe tbody tr th:only-of-type {\n",
       "        vertical-align: middle;\n",
       "    }\n",
       "\n",
       "    .dataframe tbody tr th {\n",
       "        vertical-align: top;\n",
       "    }\n",
       "\n",
       "    .dataframe thead th {\n",
       "        text-align: right;\n",
       "    }\n",
       "</style>\n",
       "<table border=\"1\" class=\"dataframe\">\n",
       "  <thead>\n",
       "    <tr style=\"text-align: right;\">\n",
       "      <th></th>\n",
       "      <th>compound_id</th>\n",
       "      <th>standard_inchi_key</th>\n",
       "      <th>target_id</th>\n",
       "      <th>gene_names</th>\n",
       "      <th>wildtype_or_mutant</th>\n",
       "      <th>standard_type</th>\n",
       "      <th>standard_relation</th>\n",
       "      <th>standard_value</th>\n",
       "      <th>standard_units</th>\n",
       "    </tr>\n",
       "  </thead>\n",
       "  <tbody>\n",
       "    <tr>\n",
       "      <td>0</td>\n",
       "      <td>CHEMBL3545284</td>\n",
       "      <td>NaN</td>\n",
       "      <td>Q9Y4K4</td>\n",
       "      <td>MAP4K5</td>\n",
       "      <td>NaN</td>\n",
       "      <td>KDAPP</td>\n",
       "      <td>=</td>\n",
       "      <td>19155.14</td>\n",
       "      <td>NM</td>\n",
       "    </tr>\n",
       "    <tr>\n",
       "      <td>1</td>\n",
       "      <td>CHEMBL3545284</td>\n",
       "      <td>NaN</td>\n",
       "      <td>Q9Y478</td>\n",
       "      <td>PRKAB1</td>\n",
       "      <td>NaN</td>\n",
       "      <td>KDAPP</td>\n",
       "      <td>=</td>\n",
       "      <td>1565.72</td>\n",
       "      <td>NM</td>\n",
       "    </tr>\n",
       "    <tr>\n",
       "      <td>2</td>\n",
       "      <td>CHEMBL3545284</td>\n",
       "      <td>NaN</td>\n",
       "      <td>Q9Y2U5</td>\n",
       "      <td>MAP3K2</td>\n",
       "      <td>NaN</td>\n",
       "      <td>KDAPP</td>\n",
       "      <td>=</td>\n",
       "      <td>746.77</td>\n",
       "      <td>NM</td>\n",
       "    </tr>\n",
       "    <tr>\n",
       "      <td>3</td>\n",
       "      <td>CHEMBL3545284</td>\n",
       "      <td>NaN</td>\n",
       "      <td>Q9Y2K2</td>\n",
       "      <td>SIK3</td>\n",
       "      <td>NaN</td>\n",
       "      <td>KDAPP</td>\n",
       "      <td>=</td>\n",
       "      <td>13558.67</td>\n",
       "      <td>NM</td>\n",
       "    </tr>\n",
       "    <tr>\n",
       "      <td>4</td>\n",
       "      <td>CHEMBL3545284</td>\n",
       "      <td>NaN</td>\n",
       "      <td>Q9UL54</td>\n",
       "      <td>TAOK2</td>\n",
       "      <td>NaN</td>\n",
       "      <td>KDAPP</td>\n",
       "      <td>=</td>\n",
       "      <td>2220.98</td>\n",
       "      <td>NM</td>\n",
       "    </tr>\n",
       "  </tbody>\n",
       "</table>\n",
       "</div>"
      ],
      "text/plain": [
       "     compound_id standard_inchi_key target_id gene_names wildtype_or_mutant  \\\n",
       "0  CHEMBL3545284                NaN    Q9Y4K4     MAP4K5                NaN   \n",
       "1  CHEMBL3545284                NaN    Q9Y478     PRKAB1                NaN   \n",
       "2  CHEMBL3545284                NaN    Q9Y2U5     MAP3K2                NaN   \n",
       "3  CHEMBL3545284                NaN    Q9Y2K2       SIK3                NaN   \n",
       "4  CHEMBL3545284                NaN    Q9UL54      TAOK2                NaN   \n",
       "\n",
       "  standard_type standard_relation  standard_value standard_units  \n",
       "0         KDAPP                 =        19155.14             NM  \n",
       "1         KDAPP                 =         1565.72             NM  \n",
       "2         KDAPP                 =          746.77             NM  \n",
       "3         KDAPP                 =        13558.67             NM  \n",
       "4         KDAPP                 =         2220.98             NM  "
      ]
     },
     "execution_count": 4,
     "metadata": {},
     "output_type": "execute_result"
    }
   ],
   "source": [
    "df_set.head()"
   ]
  },
  {
   "cell_type": "markdown",
   "metadata": {},
   "source": [
    "## Selecting concentration values\n",
    "\n",
    "I will be looking for only those compound where they have the standard type reported as Kd values. I will also only use those compounds where the units are represented in either NM, MM or NMOL/L and make sure that the standard relation is '='. I also dont think I would like to work with mutated proteins so I will be filtering them off as well."
   ]
  },
  {
   "cell_type": "code",
   "execution_count": 5,
   "metadata": {},
   "outputs": [],
   "source": [
    "# filetering based on boolean \n",
    "\n",
    "df_set = df_set[(df_set.standard_type == 'KD') | (df_set.standard_type == 'Kd')| \n",
    "                (df_set.standard_type == 'KI') | (df_set.standard_type == 'Ki')]\n",
    "\n",
    "df_set = df_set[(df_set.standard_units == 'NM')|(df_set.standard_units == 'MM') | \n",
    "                (df_set.standard_units == 'NMOL/L')]\n",
    "\n",
    "df_set = df_set[(df_set.standard_relation == '=')]\n"
   ]
  },
  {
   "cell_type": "code",
   "execution_count": 8,
   "metadata": {},
   "outputs": [],
   "source": [
    "df_set = df_set[(df_set.wildtype_or_mutant != 'mutated')]"
   ]
  },
  {
   "cell_type": "code",
   "execution_count": 9,
   "metadata": {},
   "outputs": [],
   "source": [
    "# drop those rows where there are null values for all columns\n",
    "\n",
    "df_set.dropna(how='all', inplace=True)"
   ]
  },
  {
   "cell_type": "code",
   "execution_count": 10,
   "metadata": {},
   "outputs": [],
   "source": [
    "df_set.drop_duplicates(inplace=True)"
   ]
  },
  {
   "cell_type": "code",
   "execution_count": 11,
   "metadata": {},
   "outputs": [
    {
     "name": "stdout",
     "output_type": "stream",
     "text": [
      "<class 'pandas.core.frame.DataFrame'>\n",
      "Int64Index: 443163 entries, 179 to 5980809\n",
      "Data columns (total 9 columns):\n",
      "compound_id           414330 non-null object\n",
      "standard_inchi_key    432589 non-null object\n",
      "target_id             437324 non-null object\n",
      "gene_names            314300 non-null object\n",
      "wildtype_or_mutant    12229 non-null object\n",
      "standard_type         443163 non-null object\n",
      "standard_relation     443163 non-null object\n",
      "standard_value        443163 non-null float64\n",
      "standard_units        443163 non-null object\n",
      "dtypes: float64(1), object(8)\n",
      "memory usage: 33.8+ MB\n"
     ]
    }
   ],
   "source": [
    "df_set.info()"
   ]
  },
  {
   "cell_type": "code",
   "execution_count": 12,
   "metadata": {},
   "outputs": [
    {
     "data": {
      "text/plain": [
       "164662"
      ]
     },
     "execution_count": 12,
     "metadata": {},
     "output_type": "execute_result"
    }
   ],
   "source": [
    "# look at how many unique compounds are present\n",
    "\n",
    "df_set.compound_id.nunique()"
   ]
  },
  {
   "cell_type": "code",
   "execution_count": 17,
   "metadata": {},
   "outputs": [],
   "source": [
    "# drop those rows where there is null value associated with target, \n",
    "# no point keeping a compound if there is no target data associated with it\n",
    "\n",
    "df_set.dropna(axis=0, subset=['target_id', 'gene_names'], inplace=True)"
   ]
  },
  {
   "cell_type": "code",
   "execution_count": 18,
   "metadata": {},
   "outputs": [],
   "source": [
    "imp_comp = set(df_set.compound_id.values)"
   ]
  },
  {
   "cell_type": "code",
   "execution_count": 19,
   "metadata": {},
   "outputs": [
    {
     "data": {
      "text/plain": [
       "121540"
      ]
     },
     "execution_count": 19,
     "metadata": {},
     "output_type": "execute_result"
    }
   ],
   "source": [
    "len(imp_comp)"
   ]
  },
  {
   "cell_type": "code",
   "execution_count": 21,
   "metadata": {},
   "outputs": [],
   "source": [
    "''' Will save these compounds to extract chemical information for them in a different notebook.\n",
    "'''\n",
    "with open('../cleaned_data/imp_comp.txt', 'w') as f:\n",
    "    for item in imp_comp:\n",
    "        f.write(\"%s\\n\" % item)"
   ]
  }
 ],
 "metadata": {
  "kernelspec": {
   "display_name": "Python 3",
   "language": "python",
   "name": "python3"
  },
  "language_info": {
   "codemirror_mode": {
    "name": "ipython",
    "version": 3
   },
   "file_extension": ".py",
   "mimetype": "text/x-python",
   "name": "python",
   "nbconvert_exporter": "python",
   "pygments_lexer": "ipython3",
   "version": "3.6.6"
  }
 },
 "nbformat": 4,
 "nbformat_minor": 2
}
